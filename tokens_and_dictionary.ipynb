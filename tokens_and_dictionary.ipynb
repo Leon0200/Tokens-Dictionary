{
  "cells": [
    {
      "cell_type": "code",
      "execution_count": 1,
      "id": "27e33991",
      "metadata": {
        "id": "27e33991"
      },
      "outputs": [],
      "source": [
        "import nltk\n",
        "import numpy as np"
      ]
    },
    {
      "cell_type": "code",
      "execution_count": 2,
      "id": "6ec6572d",
      "metadata": {
        "colab": {
          "base_uri": "https://localhost:8080/"
        },
        "id": "6ec6572d",
        "outputId": "0a8c713a-5e76-40c2-a451-454d87df3ee0"
      },
      "outputs": [
        {
          "output_type": "stream",
          "name": "stderr",
          "text": [
            "[nltk_data] Downloading package punkt to /root/nltk_data...\n",
            "[nltk_data]   Unzipping tokenizers/punkt.zip.\n"
          ]
        },
        {
          "output_type": "execute_result",
          "data": {
            "text/plain": [
              "True"
            ]
          },
          "metadata": {},
          "execution_count": 2
        }
      ],
      "source": [
        "nltk.download('punkt')"
      ]
    },
    {
      "cell_type": "code",
      "execution_count": 3,
      "id": "9e303750",
      "metadata": {
        "id": "9e303750"
      },
      "outputs": [],
      "source": [
        "from nltk.tokenize import word_tokenize"
      ]
    },
    {
      "cell_type": "code",
      "execution_count": null,
      "id": "06c4240c",
      "metadata": {
        "id": "06c4240c"
      },
      "outputs": [],
      "source": [
        "txt1=\"I don't like bananas bananas like me\"\n",
        "txt2=\"They're always late\"\n",
        "txt3=\"This was co-created by my friend\"\n",
        "txt4=\"This document was signed 12-02-24 \"\n"
      ]
    },
    {
      "cell_type": "code",
      "execution_count": null,
      "id": "62c1c336",
      "metadata": {
        "id": "62c1c336",
        "outputId": "398b70ff-abe9-44e4-ec27-6d08ca12d1dd"
      },
      "outputs": [
        {
          "name": "stdout",
          "output_type": "stream",
          "text": [
            "['I', 'do', \"n't\", 'like', 'bananas', 'bananas', 'like', 'me']\n",
            "['They', \"'re\", 'always', 'late']\n",
            "['This', 'was', 'co-created', 'by', 'my', 'friend']\n",
            "['This', 'document', 'was', 'signed', '12-02-24']\n"
          ]
        }
      ],
      "source": [
        "\n",
        "t1 = nltk.word_tokenize(txt1)\n",
        "t2 = nltk.word_tokenize(txt2)\n",
        "t3 = nltk.word_tokenize(txt3)\n",
        "t4 = nltk.word_tokenize(txt4)\n",
        "print(t1)\n",
        "print(t2)\n",
        "print(t3)\n",
        "print(t4)"
      ]
    },
    {
      "cell_type": "code",
      "execution_count": null,
      "id": "8c0fa329",
      "metadata": {
        "id": "8c0fa329",
        "outputId": "3fb8827e-8b64-4a8c-c240-fe0197aef9de"
      },
      "outputs": [
        {
          "name": "stdout",
          "output_type": "stream",
          "text": [
            "{\"n't\", 'me', 'do', 'I', 'bananas', 'like'}\n",
            "{'late', \"'re\", 'always', 'They'}\n",
            "{'by', 'was', 'co-created', 'friend', 'my', 'This'}\n",
            "{'was', 'signed', 'This', 'document', '12-02-24'}\n"
          ]
        }
      ],
      "source": [
        "vocab1=set(t1)\n",
        "vocab2=set(t2)\n",
        "vocab3=set(t3)\n",
        "vocab4=set(t4)\n",
        "print(vocab1)\n",
        "print(vocab2)\n",
        "print(vocab3)\n",
        "print(vocab4)\n",
        "\n",
        "\n"
      ]
    },
    {
      "cell_type": "code",
      "execution_count": null,
      "id": "4fc1852b",
      "metadata": {
        "id": "4fc1852b"
      },
      "outputs": [],
      "source": [
        "tokens=txt1.split()"
      ]
    },
    {
      "cell_type": "code",
      "execution_count": null,
      "id": "0bda825e",
      "metadata": {
        "id": "0bda825e",
        "outputId": "94da334a-4ce1-4940-cc5c-7bfae407811f"
      },
      "outputs": [
        {
          "data": {
            "text/plain": [
              "['I', \"don't\", 'like', 'bananas', 'bananas', 'like', 'me']"
            ]
          },
          "execution_count": 41,
          "metadata": {},
          "output_type": "execute_result"
        }
      ],
      "source": [
        "tokens"
      ]
    },
    {
      "cell_type": "code",
      "execution_count": null,
      "id": "fa201dd7",
      "metadata": {
        "id": "fa201dd7"
      },
      "outputs": [],
      "source": [
        "vocab=set(tokens)"
      ]
    },
    {
      "cell_type": "code",
      "execution_count": null,
      "id": "257d7f49",
      "metadata": {
        "id": "257d7f49",
        "outputId": "26c488fa-1e9d-4746-d61c-c8082e52a1e5"
      },
      "outputs": [
        {
          "data": {
            "text/plain": [
              "{'I', 'bananas', \"don't\", 'like', 'me'}"
            ]
          },
          "execution_count": 43,
          "metadata": {},
          "output_type": "execute_result"
        }
      ],
      "source": [
        "vocab"
      ]
    },
    {
      "cell_type": "code",
      "execution_count": null,
      "id": "7b9fc763",
      "metadata": {
        "id": "7b9fc763"
      },
      "outputs": [],
      "source": [
        "\n",
        "with open('Witcher.txt', 'r') as f:\n",
        "    text = f.read()"
      ]
    },
    {
      "cell_type": "code",
      "execution_count": null,
      "id": "6d967876",
      "metadata": {
        "id": "6d967876",
        "outputId": "380a4394-4928-4fcc-d0a2-42ae73017a2f"
      },
      "outputs": [
        {
          "data": {
            "text/plain": [
              "'The Witcher is a fantasy drama television series created by Lauren Schmidt Hissrich for Netflix. It is based on the book series[a] by Polish writer Andrzej Sapkowski. Set on a fictional, medieval-inspired landmass known as the Continent, The Witcher explores the legend of Geralt of Rivia, Yennefer of Vengerberg and Princess Ciri. It stars Henry Cavill, Anya Chalotra, and Freya Allan.\\n\\nThe first season, consisting of eight episodes, was released on Netflix on December 20, 2019. It was based on The Last Wish and Sword of Destiny, which are collections of short stories that precede the main The Witcher saga. The second season, also consisting of eight episodes and based on the novel Blood of Elves, was released on December 17, 2021. In September 2021, Netflix renewed the series for a third season, which also consists of eight episodes, released in two volumes on June 29 and July 27, 2023. This will be followed by a fourth season, with Liam Hemsworth taking over the role of Geralt of Rivia. In April 2024, the series was renewed for its fifth and final season.\\n\\nAn animated origin story film, The Witcher: Nightmare of the Wolf, was released on August 23, 2021. A prequel miniseries, The Witcher: Blood Origin, was released on December 25, 2022.\\nThe story begins with Geralt of Rivia, Crown Princess Cirilla of Cintra, and the quarter-elf sorceress Yennefer of Vengerberg at different points in time, exploring formative events that shape their characters throughout the first season, before eventually merging into a single timeline.\\n\\nGeralt and Ciri are linked by destiny since before she was born when he unknowingly demanded her as a reward for his services by invoking \"the Law of Surprise\". After the two finally meet, Geralt becomes the princess\\'s protector and must help her and fight against her various pursuers to prevent her Elder Blood and powerful magic from being used for malevolent purposes and keep Ciri and their world safe.'"
            ]
          },
          "execution_count": 48,
          "metadata": {},
          "output_type": "execute_result"
        }
      ],
      "source": [
        "text"
      ]
    },
    {
      "cell_type": "code",
      "execution_count": null,
      "id": "ccb30ac2",
      "metadata": {
        "id": "ccb30ac2"
      },
      "outputs": [],
      "source": [
        "tokens=word_tokenize(text)"
      ]
    },
    {
      "cell_type": "code",
      "execution_count": null,
      "id": "33b59871",
      "metadata": {
        "id": "33b59871",
        "outputId": "043de744-b971-41af-fef3-ead3aec0050b"
      },
      "outputs": [
        {
          "data": {
            "text/plain": [
              "['The',\n",
              " 'Witcher',\n",
              " 'is',\n",
              " 'a',\n",
              " 'fantasy',\n",
              " 'drama',\n",
              " 'television',\n",
              " 'series',\n",
              " 'created',\n",
              " 'by',\n",
              " 'Lauren',\n",
              " 'Schmidt',\n",
              " 'Hissrich',\n",
              " 'for',\n",
              " 'Netflix',\n",
              " '.',\n",
              " 'It',\n",
              " 'is',\n",
              " 'based',\n",
              " 'on',\n",
              " 'the',\n",
              " 'book',\n",
              " 'series',\n",
              " '[',\n",
              " 'a',\n",
              " ']',\n",
              " 'by',\n",
              " 'Polish',\n",
              " 'writer',\n",
              " 'Andrzej',\n",
              " 'Sapkowski',\n",
              " '.',\n",
              " 'Set',\n",
              " 'on',\n",
              " 'a',\n",
              " 'fictional',\n",
              " ',',\n",
              " 'medieval-inspired',\n",
              " 'landmass',\n",
              " 'known',\n",
              " 'as',\n",
              " 'the',\n",
              " 'Continent',\n",
              " ',',\n",
              " 'The',\n",
              " 'Witcher',\n",
              " 'explores',\n",
              " 'the',\n",
              " 'legend',\n",
              " 'of',\n",
              " 'Geralt',\n",
              " 'of',\n",
              " 'Rivia',\n",
              " ',',\n",
              " 'Yennefer',\n",
              " 'of',\n",
              " 'Vengerberg',\n",
              " 'and',\n",
              " 'Princess',\n",
              " 'Ciri',\n",
              " '.',\n",
              " 'It',\n",
              " 'stars',\n",
              " 'Henry',\n",
              " 'Cavill',\n",
              " ',',\n",
              " 'Anya',\n",
              " 'Chalotra',\n",
              " ',',\n",
              " 'and',\n",
              " 'Freya',\n",
              " 'Allan',\n",
              " '.',\n",
              " 'The',\n",
              " 'first',\n",
              " 'season',\n",
              " ',',\n",
              " 'consisting',\n",
              " 'of',\n",
              " 'eight',\n",
              " 'episodes',\n",
              " ',',\n",
              " 'was',\n",
              " 'released',\n",
              " 'on',\n",
              " 'Netflix',\n",
              " 'on',\n",
              " 'December',\n",
              " '20',\n",
              " ',',\n",
              " '2019',\n",
              " '.',\n",
              " 'It',\n",
              " 'was',\n",
              " 'based',\n",
              " 'on',\n",
              " 'The',\n",
              " 'Last',\n",
              " 'Wish',\n",
              " 'and',\n",
              " 'Sword',\n",
              " 'of',\n",
              " 'Destiny',\n",
              " ',',\n",
              " 'which',\n",
              " 'are',\n",
              " 'collections',\n",
              " 'of',\n",
              " 'short',\n",
              " 'stories',\n",
              " 'that',\n",
              " 'precede',\n",
              " 'the',\n",
              " 'main',\n",
              " 'The',\n",
              " 'Witcher',\n",
              " 'saga',\n",
              " '.',\n",
              " 'The',\n",
              " 'second',\n",
              " 'season',\n",
              " ',',\n",
              " 'also',\n",
              " 'consisting',\n",
              " 'of',\n",
              " 'eight',\n",
              " 'episodes',\n",
              " 'and',\n",
              " 'based',\n",
              " 'on',\n",
              " 'the',\n",
              " 'novel',\n",
              " 'Blood',\n",
              " 'of',\n",
              " 'Elves',\n",
              " ',',\n",
              " 'was',\n",
              " 'released',\n",
              " 'on',\n",
              " 'December',\n",
              " '17',\n",
              " ',',\n",
              " '2021',\n",
              " '.',\n",
              " 'In',\n",
              " 'September',\n",
              " '2021',\n",
              " ',',\n",
              " 'Netflix',\n",
              " 'renewed',\n",
              " 'the',\n",
              " 'series',\n",
              " 'for',\n",
              " 'a',\n",
              " 'third',\n",
              " 'season',\n",
              " ',',\n",
              " 'which',\n",
              " 'also',\n",
              " 'consists',\n",
              " 'of',\n",
              " 'eight',\n",
              " 'episodes',\n",
              " ',',\n",
              " 'released',\n",
              " 'in',\n",
              " 'two',\n",
              " 'volumes',\n",
              " 'on',\n",
              " 'June',\n",
              " '29',\n",
              " 'and',\n",
              " 'July',\n",
              " '27',\n",
              " ',',\n",
              " '2023',\n",
              " '.',\n",
              " 'This',\n",
              " 'will',\n",
              " 'be',\n",
              " 'followed',\n",
              " 'by',\n",
              " 'a',\n",
              " 'fourth',\n",
              " 'season',\n",
              " ',',\n",
              " 'with',\n",
              " 'Liam',\n",
              " 'Hemsworth',\n",
              " 'taking',\n",
              " 'over',\n",
              " 'the',\n",
              " 'role',\n",
              " 'of',\n",
              " 'Geralt',\n",
              " 'of',\n",
              " 'Rivia',\n",
              " '.',\n",
              " 'In',\n",
              " 'April',\n",
              " '2024',\n",
              " ',',\n",
              " 'the',\n",
              " 'series',\n",
              " 'was',\n",
              " 'renewed',\n",
              " 'for',\n",
              " 'its',\n",
              " 'fifth',\n",
              " 'and',\n",
              " 'final',\n",
              " 'season',\n",
              " '.',\n",
              " 'An',\n",
              " 'animated',\n",
              " 'origin',\n",
              " 'story',\n",
              " 'film',\n",
              " ',',\n",
              " 'The',\n",
              " 'Witcher',\n",
              " ':',\n",
              " 'Nightmare',\n",
              " 'of',\n",
              " 'the',\n",
              " 'Wolf',\n",
              " ',',\n",
              " 'was',\n",
              " 'released',\n",
              " 'on',\n",
              " 'August',\n",
              " '23',\n",
              " ',',\n",
              " '2021',\n",
              " '.',\n",
              " 'A',\n",
              " 'prequel',\n",
              " 'miniseries',\n",
              " ',',\n",
              " 'The',\n",
              " 'Witcher',\n",
              " ':',\n",
              " 'Blood',\n",
              " 'Origin',\n",
              " ',',\n",
              " 'was',\n",
              " 'released',\n",
              " 'on',\n",
              " 'December',\n",
              " '25',\n",
              " ',',\n",
              " '2022',\n",
              " '.',\n",
              " 'The',\n",
              " 'story',\n",
              " 'begins',\n",
              " 'with',\n",
              " 'Geralt',\n",
              " 'of',\n",
              " 'Rivia',\n",
              " ',',\n",
              " 'Crown',\n",
              " 'Princess',\n",
              " 'Cirilla',\n",
              " 'of',\n",
              " 'Cintra',\n",
              " ',',\n",
              " 'and',\n",
              " 'the',\n",
              " 'quarter-elf',\n",
              " 'sorceress',\n",
              " 'Yennefer',\n",
              " 'of',\n",
              " 'Vengerberg',\n",
              " 'at',\n",
              " 'different',\n",
              " 'points',\n",
              " 'in',\n",
              " 'time',\n",
              " ',',\n",
              " 'exploring',\n",
              " 'formative',\n",
              " 'events',\n",
              " 'that',\n",
              " 'shape',\n",
              " 'their',\n",
              " 'characters',\n",
              " 'throughout',\n",
              " 'the',\n",
              " 'first',\n",
              " 'season',\n",
              " ',',\n",
              " 'before',\n",
              " 'eventually',\n",
              " 'merging',\n",
              " 'into',\n",
              " 'a',\n",
              " 'single',\n",
              " 'timeline',\n",
              " '.',\n",
              " 'Geralt',\n",
              " 'and',\n",
              " 'Ciri',\n",
              " 'are',\n",
              " 'linked',\n",
              " 'by',\n",
              " 'destiny',\n",
              " 'since',\n",
              " 'before',\n",
              " 'she',\n",
              " 'was',\n",
              " 'born',\n",
              " 'when',\n",
              " 'he',\n",
              " 'unknowingly',\n",
              " 'demanded',\n",
              " 'her',\n",
              " 'as',\n",
              " 'a',\n",
              " 'reward',\n",
              " 'for',\n",
              " 'his',\n",
              " 'services',\n",
              " 'by',\n",
              " 'invoking',\n",
              " '``',\n",
              " 'the',\n",
              " 'Law',\n",
              " 'of',\n",
              " 'Surprise',\n",
              " \"''\",\n",
              " '.',\n",
              " 'After',\n",
              " 'the',\n",
              " 'two',\n",
              " 'finally',\n",
              " 'meet',\n",
              " ',',\n",
              " 'Geralt',\n",
              " 'becomes',\n",
              " 'the',\n",
              " 'princess',\n",
              " \"'s\",\n",
              " 'protector',\n",
              " 'and',\n",
              " 'must',\n",
              " 'help',\n",
              " 'her',\n",
              " 'and',\n",
              " 'fight',\n",
              " 'against',\n",
              " 'her',\n",
              " 'various',\n",
              " 'pursuers',\n",
              " 'to',\n",
              " 'prevent',\n",
              " 'her',\n",
              " 'Elder',\n",
              " 'Blood',\n",
              " 'and',\n",
              " 'powerful',\n",
              " 'magic',\n",
              " 'from',\n",
              " 'being',\n",
              " 'used',\n",
              " 'for',\n",
              " 'malevolent',\n",
              " 'purposes',\n",
              " 'and',\n",
              " 'keep',\n",
              " 'Ciri',\n",
              " 'and',\n",
              " 'their',\n",
              " 'world',\n",
              " 'safe',\n",
              " '.']"
            ]
          },
          "execution_count": 54,
          "metadata": {},
          "output_type": "execute_result"
        }
      ],
      "source": [
        "tokens"
      ]
    },
    {
      "cell_type": "code",
      "execution_count": null,
      "id": "defc049b",
      "metadata": {
        "id": "defc049b"
      },
      "outputs": [],
      "source": [
        "vocab=set(tokens)"
      ]
    },
    {
      "cell_type": "code",
      "execution_count": null,
      "id": "905b88b3",
      "metadata": {
        "id": "905b88b3",
        "outputId": "e82e5a9b-e3e1-4a32-df04-e9b5af194fae"
      },
      "outputs": [
        {
          "data": {
            "text/plain": [
              "{\"''\",\n",
              " \"'s\",\n",
              " ',',\n",
              " '.',\n",
              " '17',\n",
              " '20',\n",
              " '2019',\n",
              " '2021',\n",
              " '2022',\n",
              " '2023',\n",
              " '2024',\n",
              " '23',\n",
              " '25',\n",
              " '27',\n",
              " '29',\n",
              " ':',\n",
              " 'A',\n",
              " 'After',\n",
              " 'Allan',\n",
              " 'An',\n",
              " 'Andrzej',\n",
              " 'Anya',\n",
              " 'April',\n",
              " 'August',\n",
              " 'Blood',\n",
              " 'Cavill',\n",
              " 'Chalotra',\n",
              " 'Cintra',\n",
              " 'Ciri',\n",
              " 'Cirilla',\n",
              " 'Continent',\n",
              " 'Crown',\n",
              " 'December',\n",
              " 'Destiny',\n",
              " 'Elder',\n",
              " 'Elves',\n",
              " 'Freya',\n",
              " 'Geralt',\n",
              " 'Hemsworth',\n",
              " 'Henry',\n",
              " 'Hissrich',\n",
              " 'In',\n",
              " 'It',\n",
              " 'July',\n",
              " 'June',\n",
              " 'Last',\n",
              " 'Lauren',\n",
              " 'Law',\n",
              " 'Liam',\n",
              " 'Netflix',\n",
              " 'Nightmare',\n",
              " 'Origin',\n",
              " 'Polish',\n",
              " 'Princess',\n",
              " 'Rivia',\n",
              " 'Sapkowski',\n",
              " 'Schmidt',\n",
              " 'September',\n",
              " 'Set',\n",
              " 'Surprise',\n",
              " 'Sword',\n",
              " 'The',\n",
              " 'This',\n",
              " 'Vengerberg',\n",
              " 'Wish',\n",
              " 'Witcher',\n",
              " 'Wolf',\n",
              " 'Yennefer',\n",
              " '[',\n",
              " ']',\n",
              " '``',\n",
              " 'a',\n",
              " 'against',\n",
              " 'also',\n",
              " 'and',\n",
              " 'animated',\n",
              " 'are',\n",
              " 'as',\n",
              " 'at',\n",
              " 'based',\n",
              " 'be',\n",
              " 'becomes',\n",
              " 'before',\n",
              " 'begins',\n",
              " 'being',\n",
              " 'book',\n",
              " 'born',\n",
              " 'by',\n",
              " 'characters',\n",
              " 'collections',\n",
              " 'consisting',\n",
              " 'consists',\n",
              " 'created',\n",
              " 'demanded',\n",
              " 'destiny',\n",
              " 'different',\n",
              " 'drama',\n",
              " 'eight',\n",
              " 'episodes',\n",
              " 'events',\n",
              " 'eventually',\n",
              " 'explores',\n",
              " 'exploring',\n",
              " 'fantasy',\n",
              " 'fictional',\n",
              " 'fifth',\n",
              " 'fight',\n",
              " 'film',\n",
              " 'final',\n",
              " 'finally',\n",
              " 'first',\n",
              " 'followed',\n",
              " 'for',\n",
              " 'formative',\n",
              " 'fourth',\n",
              " 'from',\n",
              " 'he',\n",
              " 'help',\n",
              " 'her',\n",
              " 'his',\n",
              " 'in',\n",
              " 'into',\n",
              " 'invoking',\n",
              " 'is',\n",
              " 'its',\n",
              " 'keep',\n",
              " 'known',\n",
              " 'landmass',\n",
              " 'legend',\n",
              " 'linked',\n",
              " 'magic',\n",
              " 'main',\n",
              " 'malevolent',\n",
              " 'medieval-inspired',\n",
              " 'meet',\n",
              " 'merging',\n",
              " 'miniseries',\n",
              " 'must',\n",
              " 'novel',\n",
              " 'of',\n",
              " 'on',\n",
              " 'origin',\n",
              " 'over',\n",
              " 'points',\n",
              " 'powerful',\n",
              " 'precede',\n",
              " 'prequel',\n",
              " 'prevent',\n",
              " 'princess',\n",
              " 'protector',\n",
              " 'purposes',\n",
              " 'pursuers',\n",
              " 'quarter-elf',\n",
              " 'released',\n",
              " 'renewed',\n",
              " 'reward',\n",
              " 'role',\n",
              " 'safe',\n",
              " 'saga',\n",
              " 'season',\n",
              " 'second',\n",
              " 'series',\n",
              " 'services',\n",
              " 'shape',\n",
              " 'she',\n",
              " 'short',\n",
              " 'since',\n",
              " 'single',\n",
              " 'sorceress',\n",
              " 'stars',\n",
              " 'stories',\n",
              " 'story',\n",
              " 'taking',\n",
              " 'television',\n",
              " 'that',\n",
              " 'the',\n",
              " 'their',\n",
              " 'third',\n",
              " 'throughout',\n",
              " 'time',\n",
              " 'timeline',\n",
              " 'to',\n",
              " 'two',\n",
              " 'unknowingly',\n",
              " 'used',\n",
              " 'various',\n",
              " 'volumes',\n",
              " 'was',\n",
              " 'when',\n",
              " 'which',\n",
              " 'will',\n",
              " 'with',\n",
              " 'world',\n",
              " 'writer'}"
            ]
          },
          "execution_count": 56,
          "metadata": {},
          "output_type": "execute_result"
        }
      ],
      "source": [
        "vocab"
      ]
    },
    {
      "cell_type": "code",
      "execution_count": 4,
      "id": "d3f73b71",
      "metadata": {
        "id": "d3f73b71"
      },
      "outputs": [],
      "source": [
        "doc1= \"scikit-learn is largely written in Python, and uses NumPy extensively for high-performance linear algebra and array operations. Furthermore, some core algorithms are written in Cython to improve performance. Support vector machines are implemented by a Cython wrapper around LIBSVM; logistic regression and linear support vector machines by a similar wrapper around LIBLINEAR. In such cases, extending these methods with Python may not be possible.scikit-learn integrates well with many other Python libraries, such as Matplotlib and plotly for plotting, NumPy for array vectorization, Pandas dataframes, SciPy, and many more.\"\n",
        "doc2=\"We present iNLTK, an open-source NLP library consisting of pre-trained language models and out-of-the-box support for Data Augmentation, Textual Similarity, Sentence Embeddings, Word Embeddings, Tokenization and Text Generation in 13 Indic Languages. By using pre-trained models from iNLTK for text classification on publicly available datasets, we significantly outperform previously reported results. On these datasets, we also show that by using pre-trained models and data augmentation from iNLTK, we can achieve more than 95% of the previous best performance by using less than 10% of the training data. iNLTK is already being widely used by the community and has 40,000+ downloads, 600+ stars and 100+ forks on GitHub. The library is available at https://github.com/goru001/inltk\"\n",
        "doc3=\"The Natural Language Toolkit, or more commonly NLTK, is a suite of libraries and programs for symbolic and statistical natural language processing (NLP) for English written in the Python programming language. It supports classification, tokenization, stemming, tagging, parsing, and semantic reasoning functionalities.[4] It was developed by Steven Bird and Edward Loper in the Department of Computer and Information Science at the University of Pennsylvania.[5] NLTK includes graphical demonstrations and sample data. It is accompanied by a book that explains the underlying concepts behind the language processing tasks supported by the toolkit,[6] plus a cookbook.\""
      ]
    },
    {
      "cell_type": "code",
      "execution_count": 5,
      "id": "c40c2a67",
      "metadata": {
        "colab": {
          "base_uri": "https://localhost:8080/",
          "height": 88
        },
        "id": "c40c2a67",
        "outputId": "11f1eeee-e64e-4253-e9fc-a6e15d8d5e2f"
      },
      "outputs": [
        {
          "output_type": "execute_result",
          "data": {
            "text/plain": [
              "'scikit-learn is largely written in Python, and uses NumPy extensively for high-performance linear algebra and array operations. Furthermore, some core algorithms are written in Cython to improve performance. Support vector machines are implemented by a Cython wrapper around LIBSVM; logistic regression and linear support vector machines by a similar wrapper around LIBLINEAR. In such cases, extending these methods with Python may not be possible.scikit-learn integrates well with many other Python libraries, such as Matplotlib and plotly for plotting, NumPy for array vectorization, Pandas dataframes, SciPy, and many more.'"
            ],
            "application/vnd.google.colaboratory.intrinsic+json": {
              "type": "string"
            }
          },
          "metadata": {},
          "execution_count": 5
        }
      ],
      "source": [
        "doc1"
      ]
    },
    {
      "cell_type": "code",
      "execution_count": 6,
      "id": "d679236a",
      "metadata": {
        "colab": {
          "base_uri": "https://localhost:8080/"
        },
        "id": "d679236a",
        "outputId": "147b4b73-39c6-4ffb-e7fa-bb998c713a4c"
      },
      "outputs": [
        {
          "output_type": "stream",
          "name": "stdout",
          "text": [
            "101\n",
            "130\n",
            "118\n"
          ]
        }
      ],
      "source": [
        "tok1=word_tokenize(doc1)\n",
        "print(len(tok1))\n",
        "tok2=word_tokenize(doc2)\n",
        "print(len(tok2))\n",
        "tok3=word_tokenize(doc3)\n",
        "print(len(tok3))"
      ]
    },
    {
      "cell_type": "code",
      "execution_count": null,
      "id": "508fa20d",
      "metadata": {
        "id": "508fa20d",
        "outputId": "4a0cefc9-1993-4cdd-935d-ef9da21dda47"
      },
      "outputs": [
        {
          "data": {
            "text/plain": [
              "['scikit-learn',\n",
              " 'is',\n",
              " 'largely',\n",
              " 'written',\n",
              " 'in',\n",
              " 'Python',\n",
              " ',',\n",
              " 'and',\n",
              " 'uses',\n",
              " 'NumPy',\n",
              " 'extensively',\n",
              " 'for',\n",
              " 'high-performance',\n",
              " 'linear',\n",
              " 'algebra',\n",
              " 'and',\n",
              " 'array',\n",
              " 'operations',\n",
              " '.',\n",
              " 'Furthermore',\n",
              " ',',\n",
              " 'some',\n",
              " 'core',\n",
              " 'algorithms',\n",
              " 'are',\n",
              " 'written',\n",
              " 'in',\n",
              " 'Cython',\n",
              " 'to',\n",
              " 'improve',\n",
              " 'performance',\n",
              " '.',\n",
              " 'Support',\n",
              " 'vector',\n",
              " 'machines',\n",
              " 'are',\n",
              " 'implemented',\n",
              " 'by',\n",
              " 'a',\n",
              " 'Cython',\n",
              " 'wrapper',\n",
              " 'around',\n",
              " 'LIBSVM',\n",
              " ';',\n",
              " 'logistic',\n",
              " 'regression',\n",
              " 'and',\n",
              " 'linear',\n",
              " 'support',\n",
              " 'vector',\n",
              " 'machines',\n",
              " 'by',\n",
              " 'a',\n",
              " 'similar',\n",
              " 'wrapper',\n",
              " 'around',\n",
              " 'LIBLINEAR',\n",
              " '.',\n",
              " 'In',\n",
              " 'such',\n",
              " 'cases',\n",
              " ',',\n",
              " 'extending',\n",
              " 'these',\n",
              " 'methods',\n",
              " 'with',\n",
              " 'Python',\n",
              " 'may',\n",
              " 'not',\n",
              " 'be',\n",
              " 'possible.scikit-learn',\n",
              " 'integrates',\n",
              " 'well',\n",
              " 'with',\n",
              " 'many',\n",
              " 'other',\n",
              " 'Python',\n",
              " 'libraries',\n",
              " ',',\n",
              " 'such',\n",
              " 'as',\n",
              " 'Matplotlib',\n",
              " 'and',\n",
              " 'plotly',\n",
              " 'for',\n",
              " 'plotting',\n",
              " ',',\n",
              " 'NumPy',\n",
              " 'for',\n",
              " 'array',\n",
              " 'vectorization',\n",
              " ',',\n",
              " 'Pandas',\n",
              " 'dataframes',\n",
              " ',',\n",
              " 'SciPy',\n",
              " ',',\n",
              " 'and',\n",
              " 'many',\n",
              " 'more',\n",
              " '.']"
            ]
          },
          "execution_count": 63,
          "metadata": {},
          "output_type": "execute_result"
        }
      ],
      "source": [
        "tok1"
      ]
    },
    {
      "cell_type": "code",
      "execution_count": 7,
      "id": "79bd5d05",
      "metadata": {
        "colab": {
          "base_uri": "https://localhost:8080/"
        },
        "id": "79bd5d05",
        "outputId": "68e0971b-4301-4679-f349-0f9fbaceff12"
      },
      "outputs": [
        {
          "output_type": "stream",
          "name": "stdout",
          "text": [
            "67\n",
            "87\n",
            "78\n"
          ]
        }
      ],
      "source": [
        "v1=set(tok1)\n",
        "print(len(v1))\n",
        "v2=set(tok2)\n",
        "print(len(v2))\n",
        "v3=set(tok3)\n",
        "print(len(v3))\n"
      ]
    },
    {
      "cell_type": "code",
      "execution_count": 8,
      "id": "d4816e71",
      "metadata": {
        "colab": {
          "base_uri": "https://localhost:8080/"
        },
        "id": "d4816e71",
        "outputId": "e770847a-2456-47fa-dbe2-3d0521a66848"
      },
      "outputs": [
        {
          "output_type": "stream",
          "name": "stdout",
          "text": [
            "{'vectorization', 'Generation', 'It', 'SciPy', '(', 'GitHub', 'https', 'performance', 'wrapper', '40,000+', 'accompanied', 'are', 'plus', 'best', 'cases', ']', 'community', 'Loper', 'significantly', 'largely', 'implemented', 'methods', 'vector', 'core', 'logistic', 'Textual', 'Embeddings', 'Text', 'datasets', 'underlying', '[', 'graphical', 'commonly', 'University', 'Steven', 'behind', 'outperform', 'English', 'consisting', 'pre-trained', 'as', 'Science', '%', 'achieve', 'being', 'includes', 'processing', 'for', 'in', 'LIBLINEAR', 'concepts', ',', 'Language', 'using', 'Sentence', 'has', ')', 'such', 'widely', 'by', 'scikit-learn', 'these', 'operations', 'natural', 'Matplotlib', 'In', 'suite', 'previously', 'NLP', 'less', 'Data', '10', 'possible.scikit-learn', '95', '6', 'from', 'available', '600+', 'functionalities', 'array', 'library', 'used', 'Tokenization', 'downloads', 'plotting', 'developed', 'of', 'some', 'Indic', 'sample', 'supports', 'Word', 'By', 'tokenization', 'Toolkit', 'Pandas', 'or', 'augmentation', 'LIBSVM', 'an', 'we', 'present', 'Cython', 'extending', 'Department', 'text', 'extensively', 'more', 'improve', 'language', 'integrates', 'with', 'Augmentation', 'semantic', 'cookbook', 'forks', 'high-performance', 'similar', 'many', 'Natural', 'may', 'Information', 'training', 'not', ':', 'programming', 'on', 'previous', 'On', 'well', 'than', 'that', '13', '.', 'results', 'tagging', 'can', 'already', 'machines', 'Languages', 'reasoning', 'Bird', 'The', 'is', 'publicly', 'other', 'Support', 'We', 'around', 'symbolic', 'was', 'NLTK', 'open-source', 'libraries', 'Pennsylvania', 'uses', ';', 'book', 'Furthermore', 'to', 'algebra', '//github.com/goru001/inltk', '4', 'programs', 'Similarity', 'explains', 'and', 'data', '5', 'parsing', 'toolkit', 'statistical', 'algorithms', 'supported', 'be', 'the', 'stars', 'linear', 'reported', 'regression', 'dataframes', 'show', 'a', 'at', 'Python', 'Computer', 'stemming', '100+', 'tasks', 'also', 'iNLTK', 'demonstrations', 'Edward', 'classification', 'written', 'support', 'NumPy', 'models', 'out-of-the-box', 'plotly'}\n"
          ]
        }
      ],
      "source": [
        "\n",
        "# Add the sets without duplicates\n",
        "dictionary = v1.union(v2, v3)\n",
        "\n",
        "print(dictionary)"
      ]
    },
    {
      "cell_type": "code",
      "execution_count": 15,
      "id": "f272af81",
      "metadata": {
        "colab": {
          "base_uri": "https://localhost:8080/"
        },
        "id": "f272af81",
        "outputId": "61ac77b6-ac92-47c2-bfab-f899c7adc479"
      },
      "outputs": [
        {
          "output_type": "stream",
          "name": "stdout",
          "text": [
            "binary incidence for doc1: [1, 0, 0, 1, 0, 0, 0, 1, 1, 0, 0, 1, 0, 0, 1, 0, 0, 0, 0, 1, 1, 1, 1, 1, 1, 0, 0, 0, 0, 0, 0, 0, 0, 0, 0, 0, 0, 0, 0, 0, 1, 0, 0, 0, 0, 0, 0, 1, 1, 1, 0, 1, 0, 0, 0, 0, 0, 1, 0, 1, 1, 1, 1, 0, 1, 1, 0, 0, 0, 0, 0, 0, 1, 0, 0, 0, 0, 0, 0, 1, 0, 0, 0, 0, 1, 0, 0, 1, 0, 0, 0, 0, 0, 0, 0, 1, 0, 0, 1, 0, 0, 0, 1, 1, 0, 0, 1, 1, 1, 0, 1, 1, 0, 0, 0, 0, 1, 1, 1, 0, 1, 0, 0, 1, 0, 0, 0, 0, 0, 1, 0, 0, 0, 1, 0, 0, 0, 0, 1, 0, 0, 0, 0, 1, 0, 1, 1, 0, 1, 0, 0, 0, 0, 1, 0, 1, 1, 0, 1, 1, 1, 0, 0, 0, 0, 0, 1, 0, 0, 0, 0, 0, 1, 0, 1, 0, 0, 1, 0, 1, 1, 0, 1, 0, 1, 0, 0, 0, 0, 0, 0, 0, 0, 0, 1, 1, 1, 0, 0, 1]\n",
            "binary incidence for doc2: [0, 1, 0, 0, 0, 1, 1, 1, 0, 1, 0, 0, 0, 1, 0, 0, 1, 0, 1, 0, 0, 0, 0, 0, 0, 1, 1, 1, 1, 0, 0, 0, 0, 0, 0, 0, 1, 0, 1, 1, 0, 0, 1, 1, 1, 0, 0, 1, 1, 0, 0, 1, 0, 1, 1, 1, 0, 0, 1, 1, 0, 1, 0, 0, 0, 0, 0, 1, 1, 1, 1, 1, 0, 1, 0, 1, 1, 1, 0, 0, 1, 1, 1, 1, 0, 0, 1, 0, 1, 0, 0, 1, 1, 0, 0, 0, 0, 1, 0, 1, 1, 1, 0, 0, 0, 1, 0, 1, 0, 1, 0, 0, 1, 0, 0, 1, 0, 0, 0, 0, 0, 0, 1, 0, 1, 0, 1, 1, 1, 0, 1, 1, 1, 1, 1, 0, 1, 1, 0, 1, 0, 0, 1, 1, 1, 0, 0, 1, 0, 0, 0, 0, 1, 0, 0, 0, 0, 0, 0, 0, 0, 1, 0, 0, 1, 0, 1, 1, 0, 0, 0, 0, 0, 0, 0, 1, 1, 0, 1, 0, 0, 1, 0, 1, 0, 0, 0, 1, 0, 1, 1, 0, 0, 1, 0, 1, 0, 1, 1, 0]\n",
            "binary incidence for doc3: [0, 0, 1, 0, 1, 0, 0, 0, 0, 0, 1, 0, 1, 0, 0, 1, 0, 1, 0, 0, 0, 0, 0, 0, 0, 0, 0, 0, 0, 1, 1, 1, 1, 1, 1, 1, 0, 1, 0, 0, 0, 1, 0, 0, 0, 1, 1, 1, 1, 0, 1, 1, 1, 0, 0, 0, 1, 0, 0, 1, 0, 0, 0, 1, 0, 0, 1, 0, 1, 0, 0, 0, 0, 0, 1, 0, 0, 0, 1, 0, 0, 0, 0, 0, 0, 1, 1, 0, 0, 1, 1, 0, 0, 1, 1, 0, 1, 0, 0, 0, 0, 0, 0, 0, 1, 0, 0, 1, 0, 1, 0, 0, 0, 1, 1, 0, 0, 0, 0, 1, 0, 1, 0, 0, 0, 1, 0, 0, 0, 0, 0, 1, 0, 1, 0, 1, 0, 0, 0, 0, 1, 1, 1, 1, 0, 0, 0, 0, 0, 1, 1, 1, 0, 1, 1, 0, 0, 1, 0, 0, 0, 0, 1, 1, 0, 1, 1, 1, 1, 1, 1, 1, 0, 1, 0, 1, 0, 0, 0, 0, 0, 0, 1, 1, 1, 1, 1, 0, 1, 0, 0, 1, 1, 1, 1, 0, 0, 0, 0, 0]\n"
          ]
        }
      ],
      "source": [
        "vector_doc1 = []\n",
        "vector_doc2 = []\n",
        "vector_doc3 = []\n",
        "\n",
        "for word in dictionary:\n",
        "    vector_doc1.append(1 if word in tok1 else 0)\n",
        "    vector_doc2.append(1 if word in tok2 else 0)\n",
        "    vector_doc3.append(1 if word in tok3 else 0)\n",
        "\n",
        "print(\"binary incidence for doc1:\", vector_doc1)\n",
        "print(\"binary incidence for doc2:\", vector_doc2)\n",
        "print(\"binary incidence for doc3:\", vector_doc3)"
      ]
    },
    {
      "cell_type": "code",
      "execution_count": null,
      "id": "4e13b20e",
      "metadata": {
        "id": "4e13b20e"
      },
      "outputs": [],
      "source": []
    }
  ],
  "metadata": {
    "kernelspec": {
      "display_name": "Python 3 (ipykernel)",
      "language": "python",
      "name": "python3"
    },
    "language_info": {
      "codemirror_mode": {
        "name": "ipython",
        "version": 3
      },
      "file_extension": ".py",
      "mimetype": "text/x-python",
      "name": "python",
      "nbconvert_exporter": "python",
      "pygments_lexer": "ipython3",
      "version": "3.11.5"
    },
    "colab": {
      "provenance": []
    }
  },
  "nbformat": 4,
  "nbformat_minor": 5
}